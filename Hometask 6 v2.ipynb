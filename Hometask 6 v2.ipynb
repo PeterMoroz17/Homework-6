{
 "cells": [
  {
   "cell_type": "code",
   "execution_count": 1,
   "id": "24025c1e",
   "metadata": {},
   "outputs": [],
   "source": [
    "import json\n",
    "import requests\n",
    "import regex as re\n",
    "from bs4 import BeautifulSoup"
   ]
  },
  {
   "cell_type": "code",
   "execution_count": 2,
   "id": "196413c9",
   "metadata": {},
   "outputs": [],
   "source": [
    "# Отримаємо дату\n",
    "responce = requests.get('https://www.bbc.com/sport')\n",
    "soup = BeautifulSoup(responce.text, features=\"lxml\")"
   ]
  },
  {
   "cell_type": "code",
   "execution_count": 3,
   "id": "96519c7a",
   "metadata": {
    "scrolled": true
   },
   "outputs": [
    {
     "name": "stdout",
     "output_type": "stream",
     "text": [
      "https://www.bbc.com/sport/football/articles/c80x1947rxzo\n",
      "\n",
      "https://www.bbc.com/sport/athletics/articles/cqv5qde4w52o\n",
      "\n",
      "https://www.bbc.com/sport/football/articles/c727z6nll05o\n",
      "\n",
      "https://www.bbc.com/sport/cricket/articles/cyx5gyk33y6o\n",
      "\n",
      "https://www.bbc.com/sport/football/articles/ckkg902ewqpo\n",
      "\n",
      "https://www.bbc.com/sport/golf/articles/c51yq3lqd2vo\n",
      "\n",
      "https://www.bbc.com/sport/football/articles/c1e5742g3nko\n",
      "\n",
      "https://www.bbc.com/sport/football/articles/cnk4lyyyyd4o\n",
      "\n",
      "https://www.bbc.com/sport/cycling/articles/cy68v8vg4pxo\n",
      "\n",
      "https://www.bbc.com/sport/rugby-league/articles/c728v1rzpvlo\n",
      "\n",
      "https://www.bbc.com/sport/football/articles/ckvgklgn4pyo\n",
      "\n",
      "https://www.bbc.com/sport/sport-climbing/articles/cxe2p8dllk1o\n",
      "\n",
      "https://www.bbc.com/sport/football/articles/c886pl8v9j8o\n",
      "\n",
      "https://www.bbc.com/sport/golf/articles/c4ngw2x812go\n",
      "\n",
      "https://www.bbc.com/sport/football/articles/ckvgz5v3weyo\n",
      "\n",
      "https://www.bbc.com/sport/american-football/articles/cv2gk12w3y2o\n",
      "\n",
      "https://www.bbc.com/sport/football/articles/c10lq33j7myo\n",
      "\n",
      "https://www.bbc.com/sport/cricket/articles/c4ng7vxv58no\n",
      "\n",
      "https://www.bbc.com/sport/football/articles/c0jqpqeqvggo\n",
      "\n",
      "https://www.bbc.com/sport/football/articles/cd19kjl88j9o\n",
      "\n",
      "https://www.bbc.com/sport/golf/articles/c2508n79q8do\n",
      "\n",
      "https://www.bbc.com/sport/football/articles/cqql9llxnv4o\n",
      "\n",
      "https://www.bbc.com/sport/football/articles/cp3855gzlmpo\n",
      "\n",
      "https://www.bbc.com/sport/football/articles/cd1rzn41ldvo\n",
      "\n",
      "https://www.bbc.com/sport/golf/articles/ck7gkkedjylo\n",
      "\n",
      "https://www.bbc.com/sport/tennis/articles/c51ylq819peo\n",
      "\n",
      "https://www.bbc.com/sport/football/articles/cj507mvnzr4o\n",
      "\n",
      "https://www.bbc.com/sport/football/articles/crgklp24jkxo\n",
      "\n",
      "https://www.bbc.com/sport/golf/articles/cydv6v78ng9o\n",
      "\n",
      "https://www.bbc.com/sport/football/articles/c1vd06q6x44o\n",
      "\n",
      "https://www.bbc.com/sport/football/articles/cn0862v8gw2o\n",
      "\n",
      "https://www.bbc.com/sport/mixed-martial-arts/articles/czd952ggnd4o\n",
      "\n",
      "https://www.bbc.com/sport/football/articles/cv2gd3jr387o\n",
      "\n",
      "https://www.bbc.com/sport/cycling/articles/cxxx568grlwo\n",
      "\n",
      "https://www.bbc.com/sport/football/articles/crgglxwge10o\n",
      "\n",
      "https://www.bbc.com/sport/tennis/articles/c3g527q1z0vo\n",
      "\n",
      "https://www.bbc.com/sport/articles/c3ggg48g3yvo\n",
      "\n",
      "https://www.bbc.com/sport/football/articles/cekk4zp5rg8o\n",
      "\n",
      "https://www.bbc.com/sport/golf/articles/cn0951qvjx3o\n",
      "\n",
      "https://www.bbc.com/sport/articles/cz99g6g8m92o\n",
      "\n",
      "https://www.bbc.com/sport/football/articles/c729vgyz9rdo\n",
      "\n",
      "https://www.bbc.com/sport/cricket/articles/cx92enxxnjyo\n",
      "\n",
      "https://www.bbc.com/sport/tennis/articles/c51y2vn643yo\n",
      "\n",
      "https://www.bbc.com/sport/67592570\n",
      "\n",
      "https://www.bbc.com/news/world-radio-and-tv-14563857\n",
      "\n"
     ]
    }
   ],
   "source": [
    "# Отримаємо посилання з основної сторінки\n",
    "main_all_divs = soup.find_all(\"div\")\n",
    "main_divs = [div for div in main_all_divs if div.get(\"data-testid\") == \"promo\" and div.get(\"type\") == \"article\"]\n",
    "main_links = [\"https://www.bbc.com\" + div.next.next.next.next.get(\"href\") for div in main_divs if div.next.next.next.next.next.get(\"role\") == \"text\"]\n",
    "for i in main_links :\n",
    "    print(i)\n",
    "    print()"
   ]
  },
  {
   "cell_type": "code",
   "execution_count": 4,
   "id": "a76b48a6",
   "metadata": {},
   "outputs": [],
   "source": [
    "# Беремо перші 5\n",
    "links = main_links[:5]\n",
    "responces = [requests.get(link).text for link in links]\n",
    "soups = [BeautifulSoup(res, features=\"lxml\") for res in responces]"
   ]
  },
  {
   "cell_type": "code",
   "execution_count": 5,
   "id": "0797ce7a",
   "metadata": {
    "scrolled": true
   },
   "outputs": [],
   "source": [
    "# Беремо зв'язані теми\n",
    "yield_titles = []\n",
    "yield_links = []\n",
    "yield_local_titles = []\n",
    "yield_local_links = []\n",
    "\n",
    "for i in range(0, len(links)):\n",
    "    h2_raw = soups[i].find_all(\"h2\")\n",
    "    h2 = None\n",
    "    for h2s in h2_raw :\n",
    "        if h2s.text == \"Related Topics\" :\n",
    "            h2 = h2s # Існує лише один підходящий h2\n",
    "    if h2 == None :\n",
    "        print(\"No related topics! ID :\", main_links[i])\n",
    "        continue\n",
    "    related_topics_raw = h2.next.next.next\n",
    "\n",
    "    related_topics_links = re.findall(\"href=\\\"([\\w \\/=+-]{1,})\", str(related_topics_raw))\n",
    "    related_topics_links = [\"https://www.bbc.com\" + link for link in related_topics_links]\n",
    "\n",
    "    related_topics_titles = re.findall(\"([\\w \\\"\\'\\/=+-]{1,})<\\/a>\", str(related_topics_raw))\n",
    "    \n",
    "    yield_local_titles = []\n",
    "    yield_local_links = []\n",
    "    \n",
    "    for j in range(0, len(related_topics_links)) :\n",
    "        yield_local_titles.append(related_topics_titles[j])\n",
    "        yield_local_links.append(related_topics_links[j])\n",
    "    \n",
    "    yield_titles.append(yield_local_titles)\n",
    "    yield_links.append(yield_local_links)"
   ]
  },
  {
   "cell_type": "code",
   "execution_count": 8,
   "id": "1fbe6e24",
   "metadata": {},
   "outputs": [],
   "source": [
    "# Зберігаємо\n",
    "filename = \"JSON.json\"\n",
    "data = [\n",
    "    {\"links\" : yield_links[i], \"titles\": yield_titles[i]}\n",
    "    for i in range(0, len(yield_titles))\n",
    "]\n",
    "with open(filename, \"w\", encoding='utf-8') as f:\n",
    "    json.dump(data, f, indent=2)"
   ]
  },
  {
   "cell_type": "code",
   "execution_count": null,
   "id": "c306eb9a",
   "metadata": {},
   "outputs": [],
   "source": []
  }
 ],
 "metadata": {
  "kernelspec": {
   "display_name": "Python 3 (ipykernel)",
   "language": "python",
   "name": "python3"
  },
  "language_info": {
   "codemirror_mode": {
    "name": "ipython",
    "version": 3
   },
   "file_extension": ".py",
   "mimetype": "text/x-python",
   "name": "python",
   "nbconvert_exporter": "python",
   "pygments_lexer": "ipython3",
   "version": "3.9.16"
  }
 },
 "nbformat": 4,
 "nbformat_minor": 5
}
